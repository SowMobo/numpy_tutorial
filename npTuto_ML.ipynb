{
 "cells": [
  {
   "cell_type": "markdown",
   "metadata": {},
   "source": [
    "# Row vector"
   ]
  },
  {
   "cell_type": "code",
   "execution_count": 16,
   "metadata": {},
   "outputs": [
    {
     "name": "stdout",
     "output_type": "stream",
     "text": [
      "[[3 4]]\n"
     ]
    }
   ],
   "source": [
    "import numpy as np \n",
    "vec = [3, 4]\n",
    "def rv(value_list):\n",
    "    return np.array([value_list]) # It is important to add braket here, otherwise the transpose doesn't work\n",
    "print(rv(vec))"
   ]
  },
  {
   "cell_type": "markdown",
   "metadata": {},
   "source": [
    "# Column vector "
   ]
  },
  {
   "cell_type": "code",
   "execution_count": 17,
   "metadata": {},
   "outputs": [
    {
     "name": "stdout",
     "output_type": "stream",
     "text": [
      "[[3]\n",
      " [4]]\n"
     ]
    }
   ],
   "source": [
    "import numpy as np\n",
    "def cv(value_list):\n",
    "    return rv(value_list).T\n",
    "\n",
    "print(cv(vec))"
   ]
  },
  {
   "cell_type": "markdown",
   "metadata": {},
   "source": [
    "# Length"
   ]
  },
  {
   "cell_type": "code",
   "execution_count": 18,
   "metadata": {},
   "outputs": [
    {
     "name": "stdout",
     "output_type": "stream",
     "text": [
      "5.0\n"
     ]
    }
   ],
   "source": [
    "import numpy as np \n",
    "def length(col_v):\n",
    "    \n",
    "    return np.sqrt(np.sum(col_v*col_v))\n",
    "\n",
    "print(length(cv(vec)))"
   ]
  },
  {
   "cell_type": "markdown",
   "metadata": {},
   "source": [
    "# Normalize a column vector"
   ]
  },
  {
   "cell_type": "code",
   "execution_count": 19,
   "metadata": {},
   "outputs": [
    {
     "data": {
      "text/plain": [
       "array([[0.6],\n",
       "       [0.8]])"
      ]
     },
     "execution_count": 19,
     "metadata": {},
     "output_type": "execute_result"
    }
   ],
   "source": [
    "import numpy as np \n",
    "def normalize(col_v):\n",
    "    return col_v / length(col_v)\n",
    "\n",
    "normalize(cv(vec))"
   ]
  },
  {
   "cell_type": "markdown",
   "metadata": {},
   "source": [
    "# Indexing"
   ]
  },
  {
   "cell_type": "code",
   "execution_count": 38,
   "metadata": {},
   "outputs": [
    {
     "name": "stdout",
     "output_type": "stream",
     "text": [
      "[[1 2 3]\n",
      " [4 5 5]\n",
      " [6 7 8]]\n",
      "2\n",
      "[[3]\n",
      " [5]\n",
      " [8]]\n",
      "[[3]\n",
      " [5]\n",
      " [8]]\n"
     ]
    },
    {
     "data": {
      "text/plain": [
       "array([[3],\n",
       "       [5],\n",
       "       [8]])"
      ]
     },
     "execution_count": 38,
     "metadata": {},
     "output_type": "execute_result"
    }
   ],
   "source": [
    "import numpy as np \n",
    "vec2D = np.array([[1, 2, 3], [4, 5, 5], [6, 7, 8]])\n",
    "print(vec2D)\n",
    "print(vec2D.ndim)\n",
    "print(np.array([vec2D[:, -1]]).T)\n",
    "print(vec2D[:, -1:])\n",
    "# return the last col as 2D array\n",
    "def index_final_col(A):\n",
    "    return A[:, -1:]\n",
    "index_final_col(vec2D)"
   ]
  },
  {
   "cell_type": "markdown",
   "metadata": {},
   "source": [
    "# Representing data "
   ]
  },
  {
   "cell_type": "markdown",
   "metadata": {},
   "source": [
    "## Alice has collected weight and height data of 3 people and has written it down below: \n",
    "## Weight, height\n",
    "## 150, 5.8\n",
    "## 130, 5.5\n",
    "## 120, 5.3\n",
    "\n",
    "## She wants to put this into a numpy array such that each row represents one individual's height and weight in the order listed. Write code to set data equal to the appropriate numpy array:"
   ]
  },
  {
   "cell_type": "markdown",
   "metadata": {},
   "source": [
    "### Tnat de ligne que d'observation(personne ici) et tand de colonne que de feature(weight et height ici)"
   ]
  },
  {
   "cell_type": "code",
   "execution_count": 40,
   "metadata": {},
   "outputs": [
    {
     "name": "stdout",
     "output_type": "stream",
     "text": [
      "[[150.    5.8]\n",
      " [130.    5.5]\n",
      " [120.    5.3]]\n"
     ]
    }
   ],
   "source": [
    "import numpy as np\n",
    "data = np.array([[150, 5.8], [130, 5.5], [120, 5.3]])\n",
    "print(data)"
   ]
  },
  {
   "cell_type": "markdown",
   "metadata": {},
   "source": [
    "# Matrix multiplication\n",
    "## Now she wants to compute the sum of each person's height and weight as a column vector by multiplying data by another numpy array. She has written the following incorrect code to do so and needs your help to fix it:\n",
    "\n"
   ]
  },
  {
   "cell_type": "code",
   "execution_count": 45,
   "metadata": {},
   "outputs": [
    {
     "name": "stdout",
     "output_type": "stream",
     "text": [
      "[[155.8]\n",
      " [135.5]\n",
      " [125.3]]\n"
     ]
    }
   ],
   "source": [
    "import numpy as np\n",
    "def transform(data):\n",
    "    return (np.dot(data, np.array([[1], [1]])))\n",
    "\n",
    "print(transform(data))"
   ]
  },
  {
   "cell_type": "code",
   "execution_count": null,
   "metadata": {},
   "outputs": [],
   "source": []
  }
 ],
 "metadata": {
  "interpreter": {
   "hash": "6f8e856f57732757f90ab79667ba2a46524499bae15a174908d55a3ed9850f3e"
  },
  "kernelspec": {
   "display_name": "Python 3.10.0 64-bit ('npTuto': conda)",
   "language": "python",
   "name": "python3"
  },
  "language_info": {
   "codemirror_mode": {
    "name": "ipython",
    "version": 3
   },
   "file_extension": ".py",
   "mimetype": "text/x-python",
   "name": "python",
   "nbconvert_exporter": "python",
   "pygments_lexer": "ipython3",
   "version": "3.10.0"
  },
  "orig_nbformat": 4
 },
 "nbformat": 4,
 "nbformat_minor": 2
}
