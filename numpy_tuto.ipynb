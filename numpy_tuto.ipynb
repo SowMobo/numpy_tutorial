{
 "cells": [
  {
   "cell_type": "code",
   "execution_count": null,
   "metadata": {},
   "outputs": [],
   "source": []
  }
 ],
 "metadata": {
  "interpreter": {
   "hash": "6f8e856f57732757f90ab79667ba2a46524499bae15a174908d55a3ed9850f3e"
  },
  "kernelspec": {
   "display_name": "Python 3.10.0 64-bit ('npTuto': conda)",
   "language": "python",
   "name": "python3"
  },
  "language_info": {
   "name": "python",
   "version": "3.10.0"
  },
  "orig_nbformat": 4
 },
 "nbformat": 4,
 "nbformat_minor": 2
}
