{
 "cells": [
  {
   "cell_type": "markdown",
   "metadata": {},
   "source": [
    "# Slicing in python"
   ]
  },
  {
   "cell_type": "code",
   "execution_count": 2,
   "metadata": {},
   "outputs": [],
   "source": [
    "import numpy as np"
   ]
  },
  {
   "cell_type": "code",
   "execution_count": 3,
   "metadata": {},
   "outputs": [
    {
     "name": "stdout",
     "output_type": "stream",
     "text": [
      "iv\n"
     ]
    }
   ],
   "source": [
    "x = 'universe'\n",
    "print(x[2:4])"
   ]
  },
  {
   "cell_type": "code",
   "execution_count": 4,
   "metadata": {},
   "outputs": [
    {
     "name": "stdout",
     "output_type": "stream",
     "text": [
      "universe\n",
      "univers\n"
     ]
    }
   ],
   "source": [
    "print(x[0:])\n",
    "print(x[:-1])"
   ]
  },
  {
   "cell_type": "code",
   "execution_count": 5,
   "metadata": {},
   "outputs": [
    {
     "name": "stdout",
     "output_type": "stream",
     "text": [
      "ir\n"
     ]
    },
    {
     "data": {
      "text/plain": [
       "True"
      ]
     },
     "execution_count": 5,
     "metadata": {},
     "output_type": "execute_result"
    }
   ],
   "source": [
    "print(x[2::3])\n",
    "x[::]==x[0:len(x):1]"
   ]
  },
  {
   "cell_type": "code",
   "execution_count": 6,
   "metadata": {},
   "outputs": [
    {
     "name": "stdout",
     "output_type": "stream",
     "text": [
      "esrevinu\n"
     ]
    }
   ],
   "source": [
    "print(x[::-1])"
   ]
  },
  {
   "cell_type": "code",
   "execution_count": 7,
   "metadata": {},
   "outputs": [
    {
     "name": "stdout",
     "output_type": "stream",
     "text": [
      "[3, 4]\n"
     ]
    }
   ],
   "source": [
    "l = [1, 2, 3, 4]\n",
    "print(l[2:])"
   ]
  },
  {
   "cell_type": "code",
   "execution_count": 8,
   "metadata": {},
   "outputs": [
    {
     "name": "stdout",
     "output_type": "stream",
     "text": [
      "[4]\n"
     ]
    }
   ],
   "source": [
    "print(l[3:])"
   ]
  },
  {
   "cell_type": "code",
   "execution_count": 9,
   "metadata": {},
   "outputs": [
    {
     "name": "stdout",
     "output_type": "stream",
     "text": [
      "[1, 2, 3, 4]\n"
     ]
    }
   ],
   "source": [
    "print(l[::])"
   ]
  },
  {
   "cell_type": "code",
   "execution_count": 10,
   "metadata": {},
   "outputs": [
    {
     "name": "stdout",
     "output_type": "stream",
     "text": [
      "[1, 3]\n"
     ]
    }
   ],
   "source": [
    "print(l[:-1:2])"
   ]
  },
  {
   "cell_type": "markdown",
   "metadata": {},
   "source": [
    "# Numpy slicing "
   ]
  },
  {
   "cell_type": "code",
   "execution_count": 11,
   "metadata": {},
   "outputs": [
    {
     "name": "stdout",
     "output_type": "stream",
     "text": [
      "[0 1 2 3 4 5 6 7 8 9]\n"
     ]
    }
   ],
   "source": [
    "a = np.arange(0,10)\n",
    "print(a)"
   ]
  },
  {
   "cell_type": "code",
   "execution_count": 12,
   "metadata": {},
   "outputs": [
    {
     "name": "stdout",
     "output_type": "stream",
     "text": [
      "[2 4]\n"
     ]
    }
   ],
   "source": [
    "print(a[2:6:2])"
   ]
  },
  {
   "cell_type": "code",
   "execution_count": 13,
   "metadata": {},
   "outputs": [
    {
     "name": "stdout",
     "output_type": "stream",
     "text": [
      "[9 8 7 6 5 4 3 2 1 0]\n"
     ]
    }
   ],
   "source": [
    "print(a[::-1])"
   ]
  },
  {
   "cell_type": "code",
   "execution_count": 14,
   "metadata": {},
   "outputs": [
    {
     "name": "stdout",
     "output_type": "stream",
     "text": [
      "[1 2 3 4 5 6 7 8]\n"
     ]
    }
   ],
   "source": [
    "print(a[1:-1])"
   ]
  },
  {
   "cell_type": "code",
   "execution_count": 15,
   "metadata": {},
   "outputs": [
    {
     "name": "stdout",
     "output_type": "stream",
     "text": [
      "[9 7 5 3]\n"
     ]
    }
   ],
   "source": [
    "\n",
    "print(a[:1:-2])"
   ]
  },
  {
   "cell_type": "code",
   "execution_count": 16,
   "metadata": {},
   "outputs": [
    {
     "name": "stdout",
     "output_type": "stream",
     "text": [
      "[9 7 5 3]\n"
     ]
    }
   ],
   "source": [
    "print(a[-1:1:-2])"
   ]
  },
  {
   "cell_type": "markdown",
   "metadata": {},
   "source": [
    "## The two previous examples are the same. Why? Beacause for negative step the defaut start index is -1"
   ]
  },
  {
   "cell_type": "code",
   "execution_count": 17,
   "metadata": {},
   "outputs": [
    {
     "ename": "TypeError",
     "evalue": "must assign iterable to extended slice",
     "output_type": "error",
     "traceback": [
      "\u001b[0;31m---------------------------------------------------------------------------\u001b[0m",
      "\u001b[0;31mTypeError\u001b[0m                                 Traceback (most recent call last)",
      "\u001b[0;32m/var/folders/4z/1vvfhf7x2xb903xwgcm9x3cc0000gn/T/ipykernel_1112/1433701747.py\u001b[0m in \u001b[0;36m<module>\u001b[0;34m\u001b[0m\n\u001b[1;32m      1\u001b[0m \u001b[0ml\u001b[0m \u001b[0;34m=\u001b[0m \u001b[0mlist\u001b[0m\u001b[0;34m(\u001b[0m\u001b[0mrange\u001b[0m\u001b[0;34m(\u001b[0m\u001b[0;36m10\u001b[0m\u001b[0;34m)\u001b[0m\u001b[0;34m)\u001b[0m\u001b[0;34m\u001b[0m\u001b[0;34m\u001b[0m\u001b[0m\n\u001b[0;32m----> 2\u001b[0;31m \u001b[0ml\u001b[0m\u001b[0;34m[\u001b[0m\u001b[0;34m:\u001b[0m\u001b[0;34m:\u001b[0m\u001b[0;36m2\u001b[0m\u001b[0;34m]\u001b[0m \u001b[0;34m=\u001b[0m \u001b[0;36m99\u001b[0m\u001b[0;34m\u001b[0m\u001b[0;34m\u001b[0m\u001b[0m\n\u001b[0m",
      "\u001b[0;31mTypeError\u001b[0m: must assign iterable to extended slice"
     ]
    }
   ],
   "source": [
    "l = list(range(10))\n",
    "l[::2] = 99"
   ]
  },
  {
   "cell_type": "code",
   "execution_count": null,
   "metadata": {},
   "outputs": [
    {
     "name": "stdout",
     "output_type": "stream",
     "text": [
      "[99  1 99  3 99  5 99  7 99  9]\n"
     ]
    }
   ],
   "source": [
    "a = np.arange(10)\n",
    "a[::2] = 99\n",
    "print(a)"
   ]
  },
  {
   "cell_type": "markdown",
   "metadata": {},
   "source": [
    "# Multi-dimensional slicing"
   ]
  },
  {
   "cell_type": "code",
   "execution_count": null,
   "metadata": {},
   "outputs": [
    {
     "data": {
      "text/plain": [
       "array([[ 0,  1,  2,  3],\n",
       "       [ 4,  5,  6,  7],\n",
       "       [ 8,  9, 10, 11],\n",
       "       [12, 13, 14, 15]])"
      ]
     },
     "execution_count": 34,
     "metadata": {},
     "output_type": "execute_result"
    }
   ],
   "source": [
    "a = np.arange(16)\n",
    "a = a.reshape((4,4))\n",
    "a.reshape((4,4))"
   ]
  },
  {
   "cell_type": "code",
   "execution_count": null,
   "metadata": {},
   "outputs": [
    {
     "name": "stdout",
     "output_type": "stream",
     "text": [
      "[ 1  5  9 13]\n"
     ]
    }
   ],
   "source": [
    "# print second column\n",
    "print(a[:,1])"
   ]
  },
  {
   "cell_type": "code",
   "execution_count": null,
   "metadata": {},
   "outputs": [
    {
     "name": "stdout",
     "output_type": "stream",
     "text": [
      "[4 5 6 7]\n"
     ]
    }
   ],
   "source": [
    "# print second row\n",
    "print(a[1,:])"
   ]
  },
  {
   "cell_type": "code",
   "execution_count": null,
   "metadata": {},
   "outputs": [
    {
     "name": "stdout",
     "output_type": "stream",
     "text": [
      "[7 5]\n"
     ]
    }
   ],
   "source": [
    "# second row and every element at evenly index\n",
    "print(a[1,::-2])"
   ]
  },
  {
   "cell_type": "code",
   "execution_count": null,
   "metadata": {},
   "outputs": [
    {
     "name": "stdout",
     "output_type": "stream",
     "text": [
      "[[ 0  1  2  3]\n",
      " [ 4  5  6  7]\n",
      " [ 8  9 10 11]\n",
      " [12 13 14 15]]\n",
      "[[ 0  1  2]\n",
      " [ 4  5  6]\n",
      " [ 8  9 10]\n",
      " [12 13 14]]\n"
     ]
    }
   ],
   "source": [
    "# All column expect last one\n",
    "print(a)\n",
    "print(a[:, :-1])"
   ]
  },
  {
   "cell_type": "code",
   "execution_count": null,
   "metadata": {},
   "outputs": [
    {
     "name": "stdout",
     "output_type": "stream",
     "text": [
      "[[ 0  1  2  3]\n",
      " [ 4  5  6  7]\n",
      " [ 8  9 10 11]\n",
      " [12 13 14 15]]\n",
      "[[ 0  1  2  3]\n",
      " [ 4  5  6  7]\n",
      " [ 8  9 10 11]]\n"
     ]
    }
   ],
   "source": [
    "# All row expect last one\n",
    "print(a)\n",
    "print(a[:-1, :])"
   ]
  },
  {
   "cell_type": "code",
   "execution_count": null,
   "metadata": {},
   "outputs": [
    {
     "name": "stdout",
     "output_type": "stream",
     "text": [
      "[[ 0  1  2  3]\n",
      " [ 4  5  6  7]\n",
      " [ 8  9 10 11]\n",
      " [12 13 14 15]]\n",
      "[[ 1  2  3]\n",
      " [ 5  6  7]\n",
      " [ 9 10 11]\n",
      " [13 14 15]]\n"
     ]
    }
   ],
   "source": [
    "# All column expect first one\n",
    "print(a)\n",
    "print(a[:, 1:])"
   ]
  },
  {
   "cell_type": "code",
   "execution_count": null,
   "metadata": {},
   "outputs": [
    {
     "name": "stdout",
     "output_type": "stream",
     "text": [
      "[[ 0  1  2  3]\n",
      " [ 4  5  6  7]\n",
      " [ 8  9 10 11]\n",
      " [12 13 14 15]]\n",
      "[[ 4  5  6  7]\n",
      " [ 8  9 10 11]\n",
      " [12 13 14 15]]\n"
     ]
    }
   ],
   "source": [
    "# All row expect first one\n",
    "print(a)\n",
    "print(a[1:, :])"
   ]
  },
  {
   "cell_type": "code",
   "execution_count": null,
   "metadata": {},
   "outputs": [
    {
     "name": "stdout",
     "output_type": "stream",
     "text": [
      "[[ 0  1  2  3]\n",
      " [ 4  5  6  7]\n",
      " [ 8  9 10 11]\n",
      " [12 13 14 15]]\n",
      "[[ 0  1  2  3]\n",
      " [ 4  5  6  7]\n",
      " [ 8  9 10 11]]\n"
     ]
    }
   ],
   "source": [
    "# all row expect the last one \n",
    "print(a)\n",
    "print(a[:-1])"
   ]
  },
  {
   "cell_type": "code",
   "execution_count": null,
   "metadata": {},
   "outputs": [
    {
     "name": "stdout",
     "output_type": "stream",
     "text": [
      "[[[ 0  1  2]\n",
      "  [ 3  4  5]\n",
      "  [ 6  7  8]]\n",
      "\n",
      " [[ 9 10 11]\n",
      "  [12 13 14]\n",
      "  [15 16 17]]\n",
      "\n",
      " [[18 19 20]\n",
      "  [21 22 23]\n",
      "  [24 25 26]]]\n"
     ]
    }
   ],
   "source": [
    "a = np.arange(27)\n",
    "a = a.reshape((3, 3, 3))\n",
    "print(a)"
   ]
  },
  {
   "cell_type": "code",
   "execution_count": null,
   "metadata": {},
   "outputs": [
    {
     "name": "stdout",
     "output_type": "stream",
     "text": [
      "[0 3 6]\n"
     ]
    }
   ],
   "source": [
    "print(a[0,...,0])\n",
    "# select first element of axis zero and first element of axis 2. Keep the rest.\n"
   ]
  },
  {
   "cell_type": "code",
   "execution_count": null,
   "metadata": {},
   "outputs": [
    {
     "name": "stdout",
     "output_type": "stream",
     "text": [
      "[0 3 6]\n"
     ]
    }
   ],
   "source": [
    "print(a[0,:, 0])"
   ]
  },
  {
   "cell_type": "code",
   "execution_count": null,
   "metadata": {},
   "outputs": [],
   "source": [
    "a = np.arange(3*3)\n",
    "a = a.reshape((3,3))\n",
    "\n",
    "b = np.array(\n",
    "    [[False, False, True],\n",
    "    [False, True, False],\n",
    "    [True, False, False]])\n",
    "    "
   ]
  },
  {
   "cell_type": "code",
   "execution_count": null,
   "metadata": {},
   "outputs": [
    {
     "name": "stdout",
     "output_type": "stream",
     "text": [
      "[[0 1 2]\n",
      " [3 4 5]\n",
      " [6 7 8]]\n",
      "[2 4 6]\n"
     ]
    }
   ],
   "source": [
    "print(a)\n",
    "print(a[b])"
   ]
  },
  {
   "cell_type": "code",
   "execution_count": null,
   "metadata": {},
   "outputs": [
    {
     "name": "stdout",
     "output_type": "stream",
     "text": [
      "\"hello word's end\"\n"
     ]
    }
   ],
   "source": [
    "print('\\\"hello' + \" \" + \"word's end\\\"\")"
   ]
  },
  {
   "cell_type": "code",
   "execution_count": null,
   "metadata": {},
   "outputs": [],
   "source": [
    "def ifConfusion(x, y):\n",
    "    if x+y>0:\n",
    "        while y>x:\n",
    "            y = y -1\n",
    "        if x==y:\n",
    "            return \"E\"\n"
   ]
  },
  {
   "cell_type": "code",
   "execution_count": null,
   "metadata": {},
   "outputs": [
    {
     "name": "stdout",
     "output_type": "stream",
     "text": [
      "E\n"
     ]
    }
   ],
   "source": [
    "print(ifConfusion(2, 8))"
   ]
  },
  {
   "cell_type": "code",
   "execution_count": null,
   "metadata": {},
   "outputs": [
    {
     "name": "stdout",
     "output_type": "stream",
     "text": [
      "81\n"
     ]
    }
   ],
   "source": [
    "print(3**4)"
   ]
  },
  {
   "cell_type": "code",
   "execution_count": null,
   "metadata": {},
   "outputs": [
    {
     "name": "stdout",
     "output_type": "stream",
     "text": [
      "papaya!\n"
     ]
    }
   ],
   "source": [
    "str = 'ppy!'\n",
    "fruit = 'a'.join(list(str))\n",
    "print(fruit)"
   ]
  },
  {
   "cell_type": "code",
   "execution_count": null,
   "metadata": {},
   "outputs": [
    {
     "name": "stdout",
     "output_type": "stream",
     "text": [
      "False\n"
     ]
    }
   ],
   "source": [
    "python = ['cool']\n",
    "x = python in python\n",
    "print(x)\n"
   ]
  },
  {
   "cell_type": "code",
   "execution_count": null,
   "metadata": {},
   "outputs": [
    {
     "name": "stdout",
     "output_type": "stream",
     "text": [
      "True\n"
     ]
    }
   ],
   "source": [
    "print(\"\"\"\n",
    "A\n",
    "B\n",
    "C\n",
    "\"\"\" ==\"\\nA\\nB\\nC\\n\")"
   ]
  },
  {
   "cell_type": "code",
   "execution_count": null,
   "metadata": {},
   "outputs": [
    {
     "name": "stdout",
     "output_type": "stream",
     "text": [
      "64\n"
     ]
    }
   ],
   "source": [
    "print(4**3)"
   ]
  },
  {
   "cell_type": "code",
   "execution_count": null,
   "metadata": {},
   "outputs": [],
   "source": [
    "x = range(-1, 2)"
   ]
  },
  {
   "cell_type": "code",
   "execution_count": null,
   "metadata": {},
   "outputs": [
    {
     "name": "stdout",
     "output_type": "stream",
     "text": [
      "range(-1, 2)\n"
     ]
    }
   ],
   "source": [
    "print(x)"
   ]
  },
  {
   "cell_type": "code",
   "execution_count": null,
   "metadata": {},
   "outputs": [
    {
     "name": "stdout",
     "output_type": "stream",
     "text": [
      "-1\n",
      "0\n",
      "1\n"
     ]
    }
   ],
   "source": [
    "for i in range(-1, 2):\n",
    "    print(i)"
   ]
  },
  {
   "cell_type": "code",
   "execution_count": null,
   "metadata": {},
   "outputs": [
    {
     "name": "stdout",
     "output_type": "stream",
     "text": [
      "6\n",
      "45\n",
      "344\n"
     ]
    }
   ],
   "source": [
    "l = [23, 344, 45, 6]\n",
    "for i in range(len(l)-1, 0, -1):\n",
    "    print(l[i])\n"
   ]
  },
  {
   "cell_type": "code",
   "execution_count": null,
   "metadata": {},
   "outputs": [
    {
     "name": "stdout",
     "output_type": "stream",
     "text": [
      "[9, 49, 53, 59, 62, 66, 89]\n"
     ]
    }
   ],
   "source": [
    "def bubblesort(lst):\n",
    "    for passesLeft in range(len(lst)-1, 0, -1):\n",
    "        for index in range(passesLeft):\n",
    "            if lst[index] > lst[index+1]:\n",
    "                lst[index], lst[index+1] = lst[index+1], lst[index]\n",
    "    return lst \n",
    "\n",
    "print(bubblesort([66, 89, 49, 62, 9, 53, 59]))\n"
   ]
  },
  {
   "cell_type": "markdown",
   "metadata": {},
   "source": [
    "Explanation\n",
    "The bubble sort does exactly what you'd expect it to do. It sorts an input list by treating each element as a bubble that climbs up the list. Each bubble rises as long as it is greater than the list elements. If a list element is smaller or equal to a list element, the bubble stops to rise and the list element starts to bubble up.  The precise algorithm works as follows. The outer index variable \"passesLeft\" marks the index after which the right-hand list elements are already sorted. The inner index variable \"index\" goes from left to right until it reaches the index variable \"passesLeft\". On its way to the right, it switches two subsequent list elements if the first element is larger than the second element. Hence, after the first pass, the largest element in the list is on the right. As this right-most element is already sorted, we can reduce the size of the list to be sorted by one, i.e., decrement the variable border. Next, the second largest element will rise to the top, and the procedure repeats."
   ]
  },
  {
   "cell_type": "code",
   "execution_count": null,
   "metadata": {},
   "outputs": [
    {
     "name": "stdout",
     "output_type": "stream",
     "text": [
      "[89, 66, 62, 59, 53, 49, 9]\n"
     ]
    }
   ],
   "source": [
    "def bubblesort(lst):\n",
    "    for passesRight in range(0, len(lst)-1):\n",
    "        for index in range(len(lst)-1, passesRight,-1):\n",
    "            if lst[index] > lst[index-1]:\n",
    "                lst[index], lst[index-1] = lst[index-1], lst[index]\n",
    "    return lst \n",
    "\n",
    "print(bubblesort([66, 89, 49, 62, 9, 53, 59]))\n"
   ]
  },
  {
   "cell_type": "code",
   "execution_count": null,
   "metadata": {},
   "outputs": [
    {
     "name": "stdout",
     "output_type": "stream",
     "text": [
      "5.0\n"
     ]
    }
   ],
   "source": [
    "print(55/11)"
   ]
  },
  {
   "cell_type": "code",
   "execution_count": null,
   "metadata": {},
   "outputs": [
    {
     "name": "stdout",
     "output_type": "stream",
     "text": [
      "377\n"
     ]
    }
   ],
   "source": [
    "print(142+234+1)\n"
   ]
  },
  {
   "cell_type": "code",
   "execution_count": null,
   "metadata": {},
   "outputs": [],
   "source": [
    "def ask_ok(prompt, repeat = 4, reminder = \"Repeat!\"):\n",
    "    while true:\n",
    "        ok = input(prompt)\n",
    "        if ok in ('y', 'ye', 'yes'):\n",
    "            return True\n",
    "        if ok in ('n', 'no', 'nop', 'nope'):\n",
    "            return False\n",
    "        repeat -= 1\n",
    "        if repeat < 0:\n",
    "            raise ValueError('invalid user response')\n",
    "        print(reminder)\n",
    "\n"
   ]
  },
  {
   "cell_type": "code",
   "execution_count": null,
   "metadata": {},
   "outputs": [
    {
     "name": "stdout",
     "output_type": "stream",
     "text": [
      "True\n"
     ]
    }
   ],
   "source": [
    " print(5+2==7)"
   ]
  },
  {
   "cell_type": "code",
   "execution_count": null,
   "metadata": {},
   "outputs": [
    {
     "name": "stdout",
     "output_type": "stream",
     "text": [
      "d\n"
     ]
    }
   ],
   "source": [
    "d = {0:'a', False: 'b', 1>2: 'c', bool([]): 'd'}\n",
    "print(d[0])"
   ]
  },
  {
   "cell_type": "code",
   "execution_count": null,
   "metadata": {},
   "outputs": [
    {
     "name": "stdout",
     "output_type": "stream",
     "text": [
      "[1, 2, 3, [4, 5, 6]]\n"
     ]
    }
   ],
   "source": [
    "l1 = [1, 2, 3]\n",
    "l2 = [4, 5, 6]\n",
    "l1.append(l2)\n",
    "print(l1)"
   ]
  },
  {
   "cell_type": "code",
   "execution_count": null,
   "metadata": {},
   "outputs": [
    {
     "name": "stdout",
     "output_type": "stream",
     "text": [
      "galaxy\n",
      "xy\n"
     ]
    }
   ],
   "source": [
    "word ='galaxy'\n",
    "print(word[:-2] + word[4:])\n",
    "print(word[4:60])"
   ]
  },
  {
   "cell_type": "code",
   "execution_count": null,
   "metadata": {},
   "outputs": [
    {
     "name": "stdout",
     "output_type": "stream",
     "text": [
      "4\n"
     ]
    }
   ],
   "source": [
    "fs = [\n",
    "    lambda x : x+1, \n",
    "    lambda x: x+x, \n",
    "    lambda x: x*x]\n",
    "n = 0\n",
    "for f in fs:\n",
    "    n = f(n)\n",
    "print(n)\n"
   ]
  },
  {
   "cell_type": "code",
   "execution_count": null,
   "metadata": {},
   "outputs": [
    {
     "name": "stdout",
     "output_type": "stream",
     "text": [
      "21\n"
     ]
    }
   ],
   "source": [
    "print(sum(range(0, 7)))"
   ]
  },
  {
   "cell_type": "code",
   "execution_count": null,
   "metadata": {},
   "outputs": [
    {
     "name": "stdout",
     "output_type": "stream",
     "text": [
      "True\n"
     ]
    }
   ],
   "source": [
    "import re\n",
    "m = \"Speedy Gonzalez\"\n",
    "r = re.findall('.', m)\n",
    "result = len(r)==len(m)\n",
    "print(result)"
   ]
  },
  {
   "cell_type": "markdown",
   "metadata": {},
   "source": [
    "Explanation\n",
    "The module re provides the function findall(regex, string) which takes two arguments. The first is a regular expression and the second one is the string against which we want to match the regex. The function findall() returns a list of all matches. In this puzzle our regular expression is '.' (one dot), which matches any single character. Since we use the function findall() we have as many matches as there are characters in the string. Therefore the length of the list with the results is equal to the length of the string and the output of the puzzle is True."
   ]
  },
  {
   "cell_type": "code",
   "execution_count": null,
   "metadata": {},
   "outputs": [
    {
     "name": "stdout",
     "output_type": "stream",
     "text": [
      "[[1, 2], [3, 4]]\n",
      "False\n"
     ]
    }
   ],
   "source": [
    "xs = [[1, 2], [3, 4]]\n",
    "ys = list(xs)\n",
    "print(ys)\n",
    "print(xs is ys)\n"
   ]
  },
  {
   "cell_type": "code",
   "execution_count": null,
   "metadata": {},
   "outputs": [
    {
     "name": "stdout",
     "output_type": "stream",
     "text": [
      "-40\n"
     ]
    }
   ],
   "source": [
    "print(range(-10, -100, -30)[1])"
   ]
  },
  {
   "cell_type": "code",
   "execution_count": null,
   "metadata": {},
   "outputs": [
    {
     "data": {
      "text/plain": [
       "True"
      ]
     },
     "execution_count": 99,
     "metadata": {},
     "output_type": "execute_result"
    }
   ],
   "source": [
    "def is_even(n):\n",
    "    if n & 1:\n",
    "        return True\n",
    "    else: \n",
    "        return False\n",
    "is_even(6)"
   ]
  },
  {
   "cell_type": "code",
   "execution_count": null,
   "metadata": {},
   "outputs": [
    {
     "name": "stdout",
     "output_type": "stream",
     "text": [
      "4\n"
     ]
    }
   ],
   "source": [
    "l = [2, 3, 4]\n",
    "l.append([[]])\n",
    "#l.extend([])\n",
    "print(len(l))"
   ]
  },
  {
   "cell_type": "code",
   "execution_count": null,
   "metadata": {},
   "outputs": [
    {
     "name": "stdout",
     "output_type": "stream",
     "text": [
      "39\n"
     ]
    }
   ],
   "source": [
    "print(sum(range(4, 10)))"
   ]
  },
  {
   "cell_type": "code",
   "execution_count": null,
   "metadata": {},
   "outputs": [
    {
     "name": "stdout",
     "output_type": "stream",
     "text": [
      "Flaxseeds\n"
     ]
    }
   ],
   "source": [
    "omga = {\n",
    "    \"Salmon\":2260, \n",
    "    \"Hering\":1729,\n",
    "    \"Sardines\": 1480, \n",
    "    \"Flaxseeds\":53400, \n",
    "    \"Eggs\": 400\n",
    "}\n",
    "y = sorted(omga, key = lambda x: omga[x])\n",
    "print(y[-1])"
   ]
  },
  {
   "cell_type": "code",
   "execution_count": null,
   "metadata": {},
   "outputs": [
    {
     "name": "stdout",
     "output_type": "stream",
     "text": [
      "(1, 1, False)\n"
     ]
    }
   ],
   "source": [
    "my_typle = 1, 1, 1==(1,1,1)\n",
    "print(my_typle)"
   ]
  },
  {
   "cell_type": "code",
   "execution_count": null,
   "metadata": {},
   "outputs": [
    {
     "name": "stdout",
     "output_type": "stream",
     "text": [
      "car\n"
     ]
    }
   ],
   "source": [
    "speeds = [\n",
    "    ('car',180),\n",
    "    ('bike',20.5), \n",
    "    ('boat', 55.3),\n",
    "    ('ski', 31.8)\n",
    "]\n",
    "#fastest = max(speeds)\n",
    "fastest = max(speeds, key = lambda x: x[1])\n",
    "print(fastest[0])"
   ]
  },
  {
   "cell_type": "markdown",
   "metadata": {},
   "source": [
    "Explanation\n",
    "If we wanted to find the fastest vehicle with this code we would certainly fail, this is not what it does. Since we have a list of tuples, the max() function computes the max item only with the first entries of the tuples. From the given strings in the tuples 'ski' is the last word in the alphabet therefore max() returns 'ski'. If you want to find the max() from the second entries of the tuples, do it like this: max(speeds, key=lambda x: x[1])."
   ]
  },
  {
   "cell_type": "code",
   "execution_count": null,
   "metadata": {},
   "outputs": [
    {
     "name": "stdout",
     "output_type": "stream",
     "text": [
      "900\n"
     ]
    }
   ],
   "source": [
    "print(20*45)"
   ]
  },
  {
   "cell_type": "code",
   "execution_count": null,
   "metadata": {},
   "outputs": [
    {
     "name": "stdout",
     "output_type": "stream",
     "text": [
      "81\n"
     ]
    }
   ],
   "source": [
    "alice = [99, 101, 103]\n",
    "bob = [110, 108, 105]\n",
    "tim = [90, 88, 85]\n",
    "\n",
    "salaries = np.array([alice, bob, tim])\n",
    "print(salaries(a))\n",
    "taxation = np.array([\n",
    "    [0.2, 0.25, 0.22],\n",
    "    [0.4, 0.5, 0.5],\n",
    "    [0.1, 0.2, 0.1]])\n",
    "max_income = np.max(salaries - taxation*salaries)\n",
    "print(int(max_income))\n"
   ]
  },
  {
   "cell_type": "code",
   "execution_count": null,
   "metadata": {},
   "outputs": [
    {
     "name": "stdout",
     "output_type": "stream",
     "text": [
      "0b101\n"
     ]
    }
   ],
   "source": [
    "result = (lambda x, y : x&y)(5, 7)\n",
    "print(bin(result))"
   ]
  },
  {
   "cell_type": "code",
   "execution_count": null,
   "metadata": {},
   "outputs": [
    {
     "name": "stdout",
     "output_type": "stream",
     "text": [
      "finxter\n"
     ]
    }
   ],
   "source": [
    "s  = 'terfinx'\n",
    "s = ''.join(sorted(list(s)[3:7]) + list(s)[0:3])\n",
    "print(s)"
   ]
  },
  {
   "cell_type": "code",
   "execution_count": null,
   "metadata": {},
   "outputs": [
    {
     "name": "stdout",
     "output_type": "stream",
     "text": [
      " \n",
      "I'm happy.\n",
      "I want dance.\n",
      "I love ice cream.\n"
     ]
    }
   ],
   "source": [
    "text = ''' \n",
    "I'm not happy.\n",
    "I don't want not dance.\n",
    "I don't love ice cream.'''\n",
    "\n",
    "parttern = \"not | don't \"\n",
    "print(re.sub(parttern,'', text))"
   ]
  },
  {
   "cell_type": "markdown",
   "metadata": {},
   "source": [
    "Explanation\n",
    "The re.sub(pattern, repl, string, count=0, flags=0) method returns a new string where all occurrences of the pattern in the old string are replaced by repl.  The puzzle shows how a negative sentiment can be quickly turned into a positive one by removing all occurrences of 'not ' and \"don't \". (Notice the whitespaces.)"
   ]
  },
  {
   "cell_type": "code",
   "execution_count": null,
   "metadata": {},
   "outputs": [
    {
     "name": "stdout",
     "output_type": "stream",
     "text": [
      "3.0\n",
      "1.0\n",
      "2.0\n"
     ]
    }
   ],
   "source": [
    "x = np.array([[1, 3, 5],\n",
    "              [1, 1, 1],\n",
    "              [0,2,4]])\n",
    "y = np.average(x, axis=1)\n",
    "print(y[0])\n",
    "print(y[1])\n",
    "print(y[2])"
   ]
  },
  {
   "cell_type": "code",
   "execution_count": null,
   "metadata": {},
   "outputs": [
    {
     "name": "stdout",
     "output_type": "stream",
     "text": [
      "[0, 1, 3]\n"
     ]
    }
   ],
   "source": [
    "matrix = [\n",
    "    (0, 1, 1),\n",
    "    (2, 1, -1), \n",
    "    (-1, 0, 3)\n",
    "]\n",
    "d = [row[col] for col, row in enumerate(matrix)]\n",
    "print(d)"
   ]
  },
  {
   "cell_type": "code",
   "execution_count": null,
   "metadata": {},
   "outputs": [
    {
     "name": "stdout",
     "output_type": "stream",
     "text": [
      "True\n"
     ]
    }
   ],
   "source": [
    "def encrypt(s):\n",
    "    return ''.join(reversed(s))\n",
    "\n",
    "def decrypt(s):\n",
    "    return s[::-1]\n",
    "\n",
    "cleartext = \" Modibo SOW\"\n",
    "print(cleartext == decrypt(encrypt(cleartext)))"
   ]
  },
  {
   "cell_type": "code",
   "execution_count": 21,
   "metadata": {},
   "outputs": [
    {
     "name": "stdout",
     "output_type": "stream",
     "text": [
      "[True, True, True, False]\n",
      "3\n"
     ]
    }
   ],
   "source": [
    "import re\n",
    "\n",
    "fruits = [\n",
    "    \"apple\",\n",
    "    \"banana\", \n",
    "    \"orange\", \n",
    "    \"kiwi\"\n",
    "]\n",
    "\n",
    "lx = lambda x: re.match(\".?.?a\", x)!=None\n",
    "result = list(map(lx, fruits))\n",
    "print(result)\n",
    "print(sum(result))"
   ]
  },
  {
   "cell_type": "markdown",
   "metadata": {},
   "source": [
    "Explanation\n",
    "The lambda expression lx checks if the regex .?.?a matches the string x and returns True or False depending on the result of the match. When there is a match, the function re.match() returns a match object and if we compare it to None we get True or False for match or no match. The regular expression matches if the input string starts with \"a\" or has an \"a\" at the second or third position. With the function map we map this lambda expression to the list of strings where .?.?a matches for \"apple\", \"banana\", \"orange\" and for \"kiwi\" it doesn't match. Therefore the result is a list of boolean values [True, True, True, False]. Finally we apply the function sum to the result list. Since True maps to 1 and False to 0 the sum is 3."
   ]
  },
  {
   "cell_type": "code",
   "execution_count": 24,
   "metadata": {},
   "outputs": [
    {
     "name": "stdout",
     "output_type": "stream",
     "text": [
      "3\n",
      "('a', 'b', 'c')\n"
     ]
    }
   ],
   "source": [
    "str = 'abc'\n",
    "for _ in range(10):\n",
    "    str = tuple(str)\n",
    "print(len(str))\n",
    "print(str)\n"
   ]
  },
  {
   "cell_type": "code",
   "execution_count": 28,
   "metadata": {},
   "outputs": [
    {
     "name": "stdout",
     "output_type": "stream",
     "text": [
      "1134.1\n"
     ]
    }
   ],
   "source": [
    "import numpy as np \n",
    "W = np.array([0.7, 0.2, 0.1])\n",
    "x = np.array([1131, 1142, 1140])\n",
    "y = np.dot(W, x)\n",
    "print(y)\n"
   ]
  },
  {
   "cell_type": "markdown",
   "metadata": {},
   "source": [
    "# Binary research "
   ]
  },
  {
   "cell_type": "code",
   "execution_count": 30,
   "metadata": {},
   "outputs": [
    {
     "name": "stdout",
     "output_type": "stream",
     "text": [
      "6\n"
     ]
    }
   ],
   "source": [
    "def bsearch(l, value):\n",
    "    lo, hi = 0, len(l)-1\n",
    "    while lo <= hi:\n",
    "        mid = (lo + hi)//2\n",
    "        if l[mid] < value:\n",
    "            lo = mid+1\n",
    "        elif value < l[mid]:\n",
    "            hi = mid -1\n",
    "        else:\n",
    "            return mid\n",
    "    return -1\n",
    "\n",
    "l = [0, 1, 2, 3, 4, 5, 6]\n",
    "x = 6\n",
    "print(bsearch(l, x))"
   ]
  },
  {
   "cell_type": "code",
   "execution_count": 31,
   "metadata": {},
   "outputs": [
    {
     "name": "stdout",
     "output_type": "stream",
     "text": [
      "0\n"
     ]
    }
   ],
   "source": [
    "print(51%3)"
   ]
  },
  {
   "cell_type": "code",
   "execution_count": 36,
   "metadata": {},
   "outputs": [
    {
     "name": "stdout",
     "output_type": "stream",
     "text": [
      "[('Modibo', 4422), ('Oumar', 2922), ('Amadou', 2922)]\n",
      "2922\n"
     ]
    }
   ],
   "source": [
    "presidents=[\n",
    "    \"Modibo\", \n",
    "    \"Oumar\", \n",
    "    \"Amadou\"\n",
    "]\n",
    "\n",
    "times_in_office = [4422,\n",
    "                    2922,\n",
    "                    2922]\n",
    "x = list(zip(presidents, times_in_office))\n",
    "print(x)\n",
    "print(x[2][1])"
   ]
  },
  {
   "cell_type": "code",
   "execution_count": 35,
   "metadata": {},
   "outputs": [
    {
     "name": "stdout",
     "output_type": "stream",
     "text": [
      "('Modibo', 'Oumar', 'Amadou')\n",
      "Amadou\n"
     ]
    }
   ],
   "source": [
    "pres = list(zip(*x))[0]\n",
    "print(pres)\n",
    "print(pres[-1])"
   ]
  },
  {
   "cell_type": "code",
   "execution_count": 37,
   "metadata": {},
   "outputs": [
    {
     "name": "stdout",
     "output_type": "stream",
     "text": [
      "2\n"
     ]
    }
   ],
   "source": [
    "a = np.array([[1, 1],\n",
    "              [1, 0]])\n",
    "b = [[2, 0],[0, 2]]\n",
    "c = np.matmul(a, b)\n",
    "print(c[0, 1])"
   ]
  },
  {
   "cell_type": "code",
   "execution_count": 40,
   "metadata": {},
   "outputs": [
    {
     "name": "stdout",
     "output_type": "stream",
     "text": [
      "What is the answer? 42! yes!\n"
     ]
    }
   ],
   "source": [
    "text  = ('What is the answer? '\n",
    "            '42!' ' yes!')\n",
    "print(text)"
   ]
  },
  {
   "cell_type": "code",
   "execution_count": 42,
   "metadata": {},
   "outputs": [
    {
     "name": "stdout",
     "output_type": "stream",
     "text": [
      "3\n"
     ]
    }
   ],
   "source": [
    "words = [\"computer\", 'car', 'cat', 'cow', 'crow', 'window']\n",
    "result = [w for w in words if re.match('.*w$', w)]\n",
    "print(len(result))"
   ]
  },
  {
   "cell_type": "code",
   "execution_count": 43,
   "metadata": {},
   "outputs": [
    {
     "name": "stdout",
     "output_type": "stream",
     "text": [
      "    A\n",
      "    B\n",
      "    C\n"
     ]
    }
   ],
   "source": [
    "print('''\\\n",
    "    A\n",
    "    B\n",
    "    C''')"
   ]
  },
  {
   "cell_type": "code",
   "execution_count": 45,
   "metadata": {},
   "outputs": [
    {
     "name": "stdout",
     "output_type": "stream",
     "text": [
      "2\n",
      "(8,)\n"
     ]
    }
   ],
   "source": [
    "#Finaboni sequence with 8 first number\n",
    "fibs = np.array([0, 1, 1, 2, 3, 5, 8, 13, 21])\n",
    "diff_fibs = np.diff(fibs)\n",
    "print(diff_fibs[4])\n",
    "print(diff_fibs.shape)"
   ]
  },
  {
   "cell_type": "markdown",
   "metadata": {},
   "source": [
    "Explanation\n",
    "The numpy diff function calculates the difference between two subsequent values of a numpy array. Hence, an array with n elements results in a diff array with (n-1) elements."
   ]
  },
  {
   "cell_type": "markdown",
   "metadata": {},
   "source": [
    "# Matrix find"
   ]
  },
  {
   "cell_type": "code",
   "execution_count": 1,
   "metadata": {},
   "outputs": [
    {
     "name": "stdout",
     "output_type": "stream",
     "text": [
      "True\n"
     ]
    }
   ],
   "source": [
    "def matrixFind(matrix, value):\n",
    "    m = len(matrix)\n",
    "    if m == 0: \n",
    "        return False\n",
    "    n = len(matrix[0])\n",
    "    if n == 0:\n",
    "        return False\n",
    "    i = 0\n",
    "    j = n - 1\n",
    "    while i < m and j >=0:\n",
    "        if matrix[i][j] == value:\n",
    "            return True\n",
    "        elif matrix[i][j] < value:\n",
    "            i = i +1\n",
    "        else:\n",
    "            j - j-1\n",
    "    return False\n",
    "\n",
    "M= [[1, 4, 4, 4], [4, 6, 9, 10], [4, 9, 10, 13], [5, 12, 13, 14]]\n",
    "print(matrixFind(M, 4))"
   ]
  },
  {
   "cell_type": "code",
   "execution_count": 2,
   "metadata": {},
   "outputs": [
    {
     "name": "stdout",
     "output_type": "stream",
     "text": [
      "18.0\n"
     ]
    }
   ],
   "source": [
    "print(5*3.8-1)"
   ]
  },
  {
   "cell_type": "code",
   "execution_count": 4,
   "metadata": {},
   "outputs": [
    {
     "name": "stdout",
     "output_type": "stream",
     "text": [
      "\n",
      "                Student rankings:\n",
      "                Bob ranks 1\n",
      "                Joe ranks 2\n",
      "                Charlie ranks 3\n",
      "                \n"
     ]
    }
   ],
   "source": [
    "import re\n",
    "target_folder = '''\n",
    "                Student rankings:\n",
    "                1. Bob\n",
    "                2. Joe\n",
    "                3.Charlie\n",
    "                '''\n",
    "parttern = r'(\\d).*?(\\w+)\\n'\n",
    "replacement = r'\\2 ranks \\1\\n'\n",
    "\n",
    "result = re.sub(parttern, replacement, target_folder)\n",
    "print(result)"
   ]
  },
  {
   "cell_type": "markdown",
   "metadata": {},
   "source": [
    "Explanation\n",
    "In this puzzle, we re-word the input text by taking the rank of each student to the end of the line. To do this, we capture the rank using the '(\\d)' part of the string. We ignore the subsequent '.' character as well as the space. The student name is then captured by '(\\w+)'. Note that we are able to match the regex for all three students because we also match the newline character '\\n' at the end of the regex. This ensures that a running match ends with the current line, and each line is checked for a possible match."
   ]
  },
  {
   "cell_type": "code",
   "execution_count": 10,
   "metadata": {},
   "outputs": [
    {
     "name": "stdout",
     "output_type": "stream",
     "text": [
      "[4 3 1 6 5 0 2]\n",
      "['Jane' 'Joe' 'Bob' 'Carl' 'Frank' 'John' 'Alice']\n",
      "['Alice' 'John' 'Frank']\n"
     ]
    }
   ],
   "source": [
    "import numpy as np\n",
    "\n",
    "sat_scores = np.array([1440, 1256, 1543, 1043, 989, 1412, 1343])\n",
    "students = np.array([\"John\", \"Bob\", \"Alice\", \"Joe\", \"Jane\", \"Frank\", \"Carl\"])\n",
    "print(np.argsort(sat_scores))\n",
    "print(students[np.argsort(sat_scores)])\n",
    "top_3 = students[np.argsort(sat_scores)][:-4:-1]\n",
    "print(top_3[:3:1])"
   ]
  },
  {
   "cell_type": "code",
   "execution_count": 13,
   "metadata": {},
   "outputs": [
    {
     "name": "stdout",
     "output_type": "stream",
     "text": [
      "4\n"
     ]
    }
   ],
   "source": [
    "s = \"modibo sow 123k pixels\".split()\n",
    "l = list(map(lambda x: x if len(x)<3 else \"duck\", s))\n",
    "print(l.count('duck'))"
   ]
  },
  {
   "cell_type": "code",
   "execution_count": 14,
   "metadata": {},
   "outputs": [
    {
     "name": "stdout",
     "output_type": "stream",
     "text": [
      "2\n"
     ]
    }
   ],
   "source": [
    "def add(a=0, b =1):\n",
    "    return a+b\n",
    "\n",
    "print(add(add()))"
   ]
  },
  {
   "cell_type": "code",
   "execution_count": 21,
   "metadata": {},
   "outputs": [
    {
     "name": "stdout",
     "output_type": "stream",
     "text": [
      "Obama\n"
     ]
    }
   ],
   "source": [
    "l = [(\"Perry\", \"music\", 105), \n",
    "(\"Bierber\", \"music\", 103),\n",
    "(\"Obama\", \"politics\", 96), \n",
    "(\"Swift\", \"music\", 85)]\n",
    "polit_starts = filter(lambda x: x[1]==\"politics\", l)\n",
    "print(list(polit_starts)[0][0])\n"
   ]
  },
  {
   "cell_type": "code",
   "execution_count": 26,
   "metadata": {},
   "outputs": [
    {
     "name": "stdout",
     "output_type": "stream",
     "text": [
      "0\n",
      "1\n",
      "1\n",
      "1\n",
      "2\n",
      "0\n",
      "3\n",
      "0\n",
      "4\n",
      "0\n"
     ]
    }
   ],
   "source": [
    "graph = [1, 1, 0, 0, 0]\n",
    "for index, edges in enumerate(graph):\n",
    "    print(index)\n",
    "    print(edges)\n"
   ]
  },
  {
   "cell_type": "code",
   "execution_count": null,
   "metadata": {},
   "outputs": [],
   "source": []
  }
 ],
 "metadata": {
  "interpreter": {
   "hash": "6f8e856f57732757f90ab79667ba2a46524499bae15a174908d55a3ed9850f3e"
  },
  "kernelspec": {
   "display_name": "Python 3.10.0 64-bit ('npTuto': conda)",
   "language": "python",
   "name": "python3"
  },
  "language_info": {
   "codemirror_mode": {
    "name": "ipython",
    "version": 3
   },
   "file_extension": ".py",
   "mimetype": "text/x-python",
   "name": "python",
   "nbconvert_exporter": "python",
   "pygments_lexer": "ipython3",
   "version": "3.10.0"
  },
  "orig_nbformat": 4
 },
 "nbformat": 4,
 "nbformat_minor": 2
}
